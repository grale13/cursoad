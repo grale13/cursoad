{
  "nbformat": 4,
  "nbformat_minor": 0,
  "metadata": {
    "colab": {
      "name": "M3_Teorema_Limite_Central.ipynb",
      "provenance": [],
      "collapsed_sections": [],
      "authorship_tag": "ABX9TyPEoWYRKlofMe7dItmFOHm7",
      "include_colab_link": true
    },
    "kernelspec": {
      "name": "python3",
      "display_name": "Python 3"
    },
    "language_info": {
      "name": "python"
    }
  },
  "cells": [
    {
      "cell_type": "markdown",
      "metadata": {
        "id": "view-in-github",
        "colab_type": "text"
      },
      "source": [
        "<a href=\"https://colab.research.google.com/github/grale13/cursoad/blob/main/M3_Teorema_Limite_Central.ipynb\" target=\"_parent\"><img src=\"https://colab.research.google.com/assets/colab-badge.svg\" alt=\"Open In Colab\"/></a>"
      ]
    },
    {
      "cell_type": "code",
      "execution_count": 1,
      "metadata": {
        "colab": {
          "base_uri": "https://localhost:8080/",
          "height": 340
        },
        "id": "P1EKXC9qFAWL",
        "outputId": "8ab100ee-68ec-4577-d30d-b0ebf3b2e9c5"
      },
      "outputs": [
        {
          "output_type": "stream",
          "name": "stderr",
          "text": [
            "/usr/local/lib/python3.7/dist-packages/seaborn/distributions.py:2619: FutureWarning: `distplot` is a deprecated function and will be removed in a future version. Please adapt your code to use either `displot` (a figure-level function with similar flexibility) or `histplot` (an axes-level function for histograms).\n",
            "  warnings.warn(msg, FutureWarning)\n"
          ]
        },
        {
          "output_type": "execute_result",
          "data": {
            "text/plain": [
              "<matplotlib.axes._subplots.AxesSubplot at 0x7f6733676310>"
            ]
          },
          "metadata": {},
          "execution_count": 1
        },
        {
          "output_type": "display_data",
          "data": {
            "image/png": "[encoded data removed]",
            "text/plain": [
              "<Figure size 432x288 with 1 Axes>"
            ]
          },
          "metadata": {}
        }
      ],
      "source": [
        "import random\n",
        "import numpy as np\n",
        "import seaborn as sns\n",
        "\n",
        "sns.set_theme()\n",
        "\n",
        "# Create a population A\n",
        "A = np.arange(1000)\n",
        "sns.distplot(A)"
      ]
    },
    {
      "cell_type": "markdown",
      "source": [
        "#Exponential"
      ],
      "metadata": {
        "id": "8z9Z7N7vX1qs"
      }
    },
    {
      "cell_type": "code",
      "source": [
        "from scipy.stats import expon\n",
        "\n",
        "data_expon = expon.rvs(scale=1, loc = 0, size = 100000\n",
        "                      )\n",
        "sns.distplot(data_expon)"
      ],
      "metadata": {
        "colab": {
          "base_uri": "https://localhost:8080/",
          "height": 340
        },
        "id": "EOlCGHt6FP5y",
        "outputId": "de35be27-8e5f-4a04-c1d9-81aad4708216"
      },
      "execution_count": 2,
      "outputs": [
        {
          "output_type": "stream",
          "name": "stderr",
          "text": [
            "/usr/local/lib/python3.7/dist-packages/seaborn/distributions.py:2619: FutureWarning: `distplot` is a deprecated function and will be removed in a future version. Please adapt your code to use either `displot` (a figure-level function with similar flexibility) or `histplot` (an axes-level function for histograms).\n",
            "  warnings.warn(msg, FutureWarning)\n"
          ]
        },
        {
          "output_type": "execute_result",
          "data": {
            "text/plain": [
              "<matplotlib.axes._subplots.AxesSubplot at 0x7f6731529090>"
            ]
          },
          "metadata": {},
          "execution_count": 2
        },
        {
          "output_type": "display_data",
          "data": {
            "image/png": "[encoded data removed]",
            "text/plain": [
              "<Figure size 432x288 with 1 Axes>"
            ]
          },
          "metadata": {
            "needs_background": "light"
          }
        }
      ]
    },
    {
      "cell_type": "code",
      "source": [
        "data_expon.mean()"
      ],
      "metadata": {
        "colab": {
          "base_uri": "https://localhost:8080/"
        },
        "id": "33N8Bs-jX8ot",
        "outputId": "6ba02bf4-25b1-43e2-8b8d-a78eab562bc0"
      },
      "execution_count": 3,
      "outputs": [
        {
          "output_type": "execute_result",
          "data": {
            "text/plain": [
              "1.0027210344573223"
            ]
          },
          "metadata": {},
          "execution_count": 3
        }
      ]
    },
    {
      "cell_type": "markdown",
      "source": [
        "#Sampling"
      ],
      "metadata": {
        "id": "b7DXiu3IYEpt"
      }
    },
    {
      "cell_type": "code",
      "source": [
        "# the mean of the samples\n",
        "means = []\n",
        "\n",
        "# create 10 samples\n",
        "for i in range(1000):\n",
        "    \n",
        "    # randomly select 10 datapoints for a sample\n",
        "    sample = random.sample(data_expon.tolist(), k = 10)\n",
        "    \n",
        "    means.append(np.mean(sample))"
      ],
      "metadata": {
        "id": "nZn8rXwaYCFu"
      },
      "execution_count": 4,
      "outputs": []
    },
    {
      "cell_type": "code",
      "source": [
        "np.mean(means)"
      ],
      "metadata": {
        "colab": {
          "base_uri": "https://localhost:8080/"
        },
        "id": "zt7Q3AiSYLfU",
        "outputId": "92233ef5-d884-432b-82b4-43bd8c3f8721"
      },
      "execution_count": 5,
      "outputs": [
        {
          "output_type": "execute_result",
          "data": {
            "text/plain": [
              "1.008016812402918"
            ]
          },
          "metadata": {},
          "execution_count": 5
        }
      ]
    },
    {
      "cell_type": "code",
      "source": [
        "print(\"Population Mean: \", data_expon.mean())\n",
        "print(\"Sample Mean: \", np.mean(means))"
      ],
      "metadata": {
        "colab": {
          "base_uri": "https://localhost:8080/"
        },
        "id": "wvQegOPMYP3i",
        "outputId": "13174a1f-6303-4151-be83-c4a2bf62e41d"
      },
      "execution_count": 6,
      "outputs": [
        {
          "output_type": "stream",
          "name": "stdout",
          "text": [
            "Population Mean:  1.0027210344573223\n",
            "Sample Mean:  1.008016812402918\n"
          ]
        }
      ]
    },
    {
      "cell_type": "code",
      "source": [
        "sns.distplot(means)"
      ],
      "metadata": {
        "colab": {
          "base_uri": "https://localhost:8080/",
          "height": 343
        },
        "id": "VPROKn5PYTCc",
        "outputId": "a2a69b07-447a-4d5d-cd77-7970f026a20e"
      },
      "execution_count": 7,
      "outputs": [
        {
          "output_type": "stream",
          "name": "stderr",
          "text": [
            "/usr/local/lib/python3.7/dist-packages/seaborn/distributions.py:2619: FutureWarning: `distplot` is a deprecated function and will be removed in a future version. Please adapt your code to use either `displot` (a figure-level function with similar flexibility) or `histplot` (an axes-level function for histograms).\n",
            "  warnings.warn(msg, FutureWarning)\n"
          ]
        },
        {
          "output_type": "execute_result",
          "data": {
            "text/plain": [
              "<matplotlib.axes._subplots.AxesSubplot at 0x7f6730fe4310>"
            ]
          },
          "metadata": {},
          "execution_count": 7
        },
        {
          "output_type": "display_data",
          "data": {
            "image/png": "[encoded data removed]",
            "text/plain": [
              "<Figure size 432x288 with 1 Axes>"
            ]
          },
          "metadata": {
            "needs_background": "light"
          }
        }
      ]
    },
    {
      "cell_type": "markdown",
      "source": [
        "#Confidence Levels"
      ],
      "metadata": {
        "id": "RgWoQQk3Yd7l"
      }
    },
    {
      "cell_type": "code",
      "source": [
        "import scipy.stats\n",
        "\n",
        "confidence_level = .95\n",
        "a = 1 - confidence_level\n",
        "\n",
        "# Z_a/2\n",
        "scipy.stats.norm.isf(a/2)"
      ],
      "metadata": {
        "colab": {
          "base_uri": "https://localhost:8080/"
        },
        "id": "1eDenZH8YZwX",
        "outputId": "eea64f85-744b-45ed-d063-bbc93c57b6a7"
      },
      "execution_count": 8,
      "outputs": [
        {
          "output_type": "execute_result",
          "data": {
            "text/plain": [
              "1.959963984540054"
            ]
          },
          "metadata": {},
          "execution_count": 8
        }
      ]
    },
    {
      "cell_type": "markdown",
      "source": [
        "#Example"
      ],
      "metadata": {
        "id": "XwIxSECBYtxa"
      }
    },
    {
      "cell_type": "code",
      "source": [
        "# sample size\n",
        "n = 37\n",
        "\n",
        "# stdv\n",
        "sigma = 8\n",
        "\n",
        "# sample mean\n",
        "xbar = 24\n",
        "\n",
        "# confidence level\n",
        "confidence_level = .95\n",
        "a = 1 - confidence_level\n",
        "\n",
        "# Z_a/2\n",
        "z_alpha_by_2 = scipy.stats.norm.isf(a/2)\n",
        "z_alpha_by_2"
      ],
      "metadata": {
        "colab": {
          "base_uri": "https://localhost:8080/"
        },
        "id": "dasKzF4OYox-",
        "outputId": "90d0e2bc-ecbb-4f77-867c-90a47276d395"
      },
      "execution_count": 9,
      "outputs": [
        {
          "output_type": "execute_result",
          "data": {
            "text/plain": [
              "1.959963984540054"
            ]
          },
          "metadata": {},
          "execution_count": 9
        }
      ]
    },
    {
      "cell_type": "code",
      "source": [
        "lower_bound = xbar - z_alpha_by_2 * (sigma/np.sqrt(n))\n",
        "lower_bound"
      ],
      "metadata": {
        "colab": {
          "base_uri": "https://localhost:8080/"
        },
        "id": "XK4WQJPaYzT3",
        "outputId": "7f75752a-1d49-4d45-cdc4-bb9bf2f6ed5a"
      },
      "execution_count": 10,
      "outputs": [
        {
          "output_type": "execute_result",
          "data": {
            "text/plain": [
              "21.422271246293136"
            ]
          },
          "metadata": {},
          "execution_count": 10
        }
      ]
    },
    {
      "cell_type": "code",
      "source": [
        "upper_bound = xbar + z_alpha_by_2 * (sigma/np.sqrt(n))\n",
        "upper_bound"
      ],
      "metadata": {
        "colab": {
          "base_uri": "https://localhost:8080/"
        },
        "id": "BjQDOiMMY3gA",
        "outputId": "4ab12196-f0f9-446d-cc82-4714d7f51973"
      },
      "execution_count": 11,
      "outputs": [
        {
          "output_type": "execute_result",
          "data": {
            "text/plain": [
              "26.577728753706864"
            ]
          },
          "metadata": {},
          "execution_count": 11
        }
      ]
    },
    {
      "cell_type": "code",
      "source": [
        "print(\"Le media poblacional se encuentra en el intervalo: \", lower_bound, upper_bound)\n",
        "print(\"Con la confianza del 90%\")"
      ],
      "metadata": {
        "colab": {
          "base_uri": "https://localhost:8080/"
        },
        "id": "bTJX1K3wY7iv",
        "outputId": "e2dc30a8-b8ad-4964-ede7-cf2d0ad6e002"
      },
      "execution_count": 12,
      "outputs": [
        {
          "output_type": "stream",
          "name": "stdout",
          "text": [
            "Le media poblacional se encuentra en el intervalo:  21.422271246293136 26.577728753706864\n",
            "Con la confianza del 90%\n"
          ]
        }
      ]
    },
    {
      "cell_type": "code",
      "source": [
        "# easy way\n",
        "scipy.stats.norm.interval(0.95, xbar, sigma/np.sqrt(n))"
      ],
      "metadata": {
        "colab": {
          "base_uri": "https://localhost:8080/"
        },
        "id": "4N5zDx-VY_ob",
        "outputId": "979a34e0-49b0-4290-e24b-db8709da5b68"
      },
      "execution_count": 13,
      "outputs": [
        {
          "output_type": "execute_result",
          "data": {
            "text/plain": [
              "(21.422271246293136, 26.577728753706864)"
            ]
          },
          "metadata": {},
          "execution_count": 13
        }
      ]
    },
    {
      "cell_type": "code",
      "source": [
        ""
      ],
      "metadata": {
        "id": "9N1Y9FBTZEFS"
      },
      "execution_count": null,
      "outputs": []
    }
  ]
}