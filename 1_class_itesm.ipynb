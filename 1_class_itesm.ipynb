{
  "nbformat": 4,
  "nbformat_minor": 0,
  "metadata": {
    "colab": {
      "name": "1_class_itesm.ipynb",
      "provenance": [],
      "authorship_tag": "ABX9TyNA/BVhyKsyZpCJ18kQtpSs",
      "include_colab_link": true
    },
    "kernelspec": {
      "name": "python3",
      "display_name": "Python 3"
    },
    "language_info": {
      "name": "python"
    }
  },
  "cells": [
    {
      "cell_type": "markdown",
      "metadata": {
        "id": "view-in-github",
        "colab_type": "text"
      },
      "source": [
        "<a href=\"https://colab.research.google.com/github/grale13/cursoad/blob/main/1_class_itesm.ipynb\" target=\"_parent\"><img src=\"https://colab.research.google.com/assets/colab-badge.svg\" alt=\"Open In Colab\"/></a>"
      ]
    },
    {
      "cell_type": "code",
      "execution_count": 2,
      "metadata": {
        "colab": {
          "base_uri": "https://localhost:8080/"
        },
        "id": "Hd6hc-BIDbtQ",
        "outputId": "eaf690db-f1a8-4a53-9a27-053dfb270488"
      },
      "outputs": [
        {
          "output_type": "stream",
          "name": "stdout",
          "text": [
            "Mounted at /content/drive\n"
          ]
        }
      ],
      "source": [
        "from google.colab import drive\n",
        "drive.mount('/content/drive')\n"
      ]
    },
    {
      "cell_type": "code",
      "source": [
        "!ls /content/drive/MyDrive/\n"
      ],
      "metadata": {
        "colab": {
          "base_uri": "https://localhost:8080/"
        },
        "id": "q-nz492dF876",
        "outputId": "70cd9d0a-113a-4e63-b439-6e8306a21fd2"
      },
      "execution_count": 3,
      "outputs": [
        {
          "output_type": "stream",
          "name": "stdout",
          "text": [
            "'ABB_ Responsabilidad por partida doble (A).pdf'\n",
            "'ABB_ Responsabilidad por partida doble (B).pdf'\n",
            "'(Asambea) Casos de Exito 22Feb2021.gslides'\n",
            " BJJ\n",
            "'Captura de Pantalla 2020-12-22 a la(s) 21.58.37.gdoc'\n",
            "'Captura de Pantalla 2020-12-22 a la(s) 21.58.37.png'\n",
            "'Captura de Pantalla 2020-12-22 a la(s) 22.02.32.gdoc'\n",
            "'Captura de Pantalla 2020-12-22 a la(s) 22.02.32.png'\n",
            "'Career Opportunity - Pre-Sales Director - Mexico.pdf'\n",
            "'Colab Notebooks'\n",
            "'Collections 2.docx'\n",
            "'Collections 2 english.gdoc'\n",
            " Collections.docx\n",
            " Collections.gdoc\n",
            "'Copia traducida de Collections 2 (1).gdoc'\n",
            "'Copia traducida de Collections 2.gdoc'\n",
            "'Copia traducida de Collections.gdoc'\n",
            "'Copia traducida de Copia traducida de Traduccion Service Cloud Voice.gdoc'\n",
            "'Copia traducida de Docto a Traducir.gdoc'\n",
            "'Copia traducida de Documento sin título.gdoc'\n",
            "'Copia traducida de Exec Profile - Palacio de Hierro_Juan Carlos Escribano_CEO v3.gdoc'\n",
            "'Copia traducida de INFOR A TRADUCIR.gdoc'\n",
            "'Copia traducida de Traduccion Service Cloud Voice.gdoc'\n",
            "'Copia traducida de Traduccion Slides.gdoc'\n",
            "'Data Governance'\n",
            "'Data Mgmt Herdez.m4a'\n",
            " DM_MapeRecurso.sql\n",
            "'Docto a Traducir.docx'\n",
            "'Docto a Traducir.gdoc'\n",
            "'Documento sin título (1).gdoc'\n",
            "'Documento sin título (2).gdoc'\n",
            "'Documento sin título (3).gdoc'\n",
            "'Documento sin título (4).gdoc'\n",
            "'Documento sin título (5).gdoc'\n",
            "'Documento sin título (6).gdoc'\n",
            "'Documento sin título (7).gdoc'\n",
            "'Documento sin título.gdoc'\n",
            "'Exec Profile - Palacio de Hierro_Juan Carlos Escribano_CEO v2.docx'\n",
            "'Exec Profile - Palacio de Hierro_Juan Carlos Escribano_CEO v2.gdoc'\n",
            "'Formulario sin título.gform'\n",
            "'INFOR A TRADUCIR.docx'\n",
            "'INFOR A TRADUCIR.gdoc'\n",
            " IPADE\n",
            " LOREAL.docx\n",
            " LOREAL.gdoc\n",
            "'LOREAL spanish.gdoc'\n",
            "'Microsoft Word - 116-S06 Asea Brown Boveri (Abreviado)[1].pdf'\n",
            " Migrate\n",
            "'Q1 Key Win - CC español .gslides'\n",
            " qr_carta_conf_esp13705128.pdf\n",
            "'RESPUESTA KMOD.docx'\n",
            "'Siebel Systems_ organización para el cliente.pdf'\n",
            "'Spanish Traduccion Service Cloud Voice.gdoc'\n",
            "'Traduccion Service Cloud Voice.docx'\n",
            "'Traduccion Sevice Cloud Adicional.docx'\n",
            "'Traduccion Sevice Cloud Adicional.gdoc'\n",
            "'Traduccion Sevice Cloud Adicional spanish.gdoc'\n",
            "'Traduccion Sevice Cloud.docx'\n",
            "'Traduccion Sevice Cloud.gdoc'\n",
            "'Traduccion Sevice Cloud spanish.gdoc'\n",
            "'Traduccion Slides.docx'\n",
            "'Traduccion Slides.gdoc'\n"
          ]
        }
      ]
    },
    {
      "cell_type": "markdown",
      "source": [
        "# New Section"
      ],
      "metadata": {
        "id": "J9csyCK9HNPD"
      }
    },
    {
      "cell_type": "code",
      "source": [
        "from google.colab import drive\n",
        "drive.mount('/content/drive')\n"
      ],
      "metadata": {
        "colab": {
          "base_uri": "https://localhost:8080/"
        },
        "id": "kgDuoO9FHke4",
        "outputId": "407ec1cf-b4d7-4fe0-adab-810309adf5f5"
      },
      "execution_count": 6,
      "outputs": [
        {
          "output_type": "stream",
          "name": "stdout",
          "text": [
            "Drive already mounted at /content/drive; to attempt to forcibly remount, call drive.mount(\"/content/drive\", force_remount=True).\n"
          ]
        }
      ]
    },
    {
      "cell_type": "code",
      "source": [
        "import pandas as pd\n"
      ],
      "metadata": {
        "id": "lwGKWMQKH1iz"
      },
      "execution_count": null,
      "outputs": []
    }
  ]
}