{
  "nbformat": 4,
  "nbformat_minor": 0,
  "metadata": {
    "colab": {
      "name": "1_class_itesm.ipynb",
      "provenance": [],
      "collapsed_sections": [],
      "toc_visible": true,
      "mount_file_id": "1DXdS69BTUyZsDBz3HnBQbc2LN94YcQYJ",
      "authorship_tag": "ABX9TyNwvnysAIEmRQVllK8wdSTn",
      "include_colab_link": true
    },
    "kernelspec": {
      "name": "python3",
      "display_name": "Python 3"
    },
    "language_info": {
      "name": "python"
    }
  },
  "cells": [
    {
      "cell_type": "markdown",
      "metadata": {
        "id": "view-in-github",
        "colab_type": "text"
      },
      "source": [
        "<a href=\"https://colab.research.google.com/github/grale13/cursoad/blob/main/1_class_itesm.ipynb\" target=\"_parent\"><img src=\"https://colab.research.google.com/assets/colab-badge.svg\" alt=\"Open In Colab\"/></a>"
      ]
    },
    {
      "cell_type": "markdown",
      "source": [
        ""
      ],
      "metadata": {
        "id": "hxV8kIV1aWqq"
      }
    },
    {
      "cell_type": "markdown",
      "source": [
        "**Importar Google drive en Google colab**"
      ],
      "metadata": {
        "id": "oYCuhJpWajMG"
      }
    },
    {
      "cell_type": "code",
      "execution_count": null,
      "metadata": {
        "colab": {
          "base_uri": "https://localhost:8080/"
        },
        "id": "Hd6hc-BIDbtQ",
        "outputId": "eaf690db-f1a8-4a53-9a27-053dfb270488"
      },
      "outputs": [
        {
          "output_type": "stream",
          "name": "stdout",
          "text": [
            "Mounted at /content/drive\n"
          ]
        }
      ],
      "source": [
        "from google.colab import drive\n",
        "drive.mount('/content/drive')\n"
      ]
    },
    {
      "cell_type": "markdown",
      "source": [
        "Comprobación de que funcionó la importación"
      ],
      "metadata": {
        "id": "hodIyUcratx2"
      }
    },
    {
      "cell_type": "code",
      "source": [
        "!ls /content/drive/MyDrive/\n"
      ],
      "metadata": {
        "colab": {
          "base_uri": "https://localhost:8080/"
        },
        "id": "q-nz492dF876",
        "outputId": "70cd9d0a-113a-4e63-b439-6e8306a21fd2"
      },
      "execution_count": null,
      "outputs": [
        {
          "output_type": "stream",
          "name": "stdout",
          "text": [
            "'ABB_ Responsabilidad por partida doble (A).pdf'\n",
            "'ABB_ Responsabilidad por partida doble (B).pdf'\n",
            "'(Asambea) Casos de Exito 22Feb2021.gslides'\n",
            " BJJ\n",
            "'Captura de Pantalla 2020-12-22 a la(s) 21.58.37.gdoc'\n",
            "'Captura de Pantalla 2020-12-22 a la(s) 21.58.37.png'\n",
            "'Captura de Pantalla 2020-12-22 a la(s) 22.02.32.gdoc'\n",
            "'Captura de Pantalla 2020-12-22 a la(s) 22.02.32.png'\n",
            "'Career Opportunity - Pre-Sales Director - Mexico.pdf'\n",
            "'Colab Notebooks'\n",
            "'Collections 2.docx'\n",
            "'Collections 2 english.gdoc'\n",
            " Collections.docx\n",
            " Collections.gdoc\n",
            "'Copia traducida de Collections 2 (1).gdoc'\n",
            "'Copia traducida de Collections 2.gdoc'\n",
            "'Copia traducida de Collections.gdoc'\n",
            "'Copia traducida de Copia traducida de Traduccion Service Cloud Voice.gdoc'\n",
            "'Copia traducida de Docto a Traducir.gdoc'\n",
            "'Copia traducida de Documento sin título.gdoc'\n",
            "'Copia traducida de Exec Profile - Palacio de Hierro_Juan Carlos Escribano_CEO v3.gdoc'\n",
            "'Copia traducida de INFOR A TRADUCIR.gdoc'\n",
            "'Copia traducida de Traduccion Service Cloud Voice.gdoc'\n",
            "'Copia traducida de Traduccion Slides.gdoc'\n",
            "'Data Governance'\n",
            "'Data Mgmt Herdez.m4a'\n",
            " DM_MapeRecurso.sql\n",
            "'Docto a Traducir.docx'\n",
            "'Docto a Traducir.gdoc'\n",
            "'Documento sin título (1).gdoc'\n",
            "'Documento sin título (2).gdoc'\n",
            "'Documento sin título (3).gdoc'\n",
            "'Documento sin título (4).gdoc'\n",
            "'Documento sin título (5).gdoc'\n",
            "'Documento sin título (6).gdoc'\n",
            "'Documento sin título (7).gdoc'\n",
            "'Documento sin título.gdoc'\n",
            "'Exec Profile - Palacio de Hierro_Juan Carlos Escribano_CEO v2.docx'\n",
            "'Exec Profile - Palacio de Hierro_Juan Carlos Escribano_CEO v2.gdoc'\n",
            "'Formulario sin título.gform'\n",
            "'INFOR A TRADUCIR.docx'\n",
            "'INFOR A TRADUCIR.gdoc'\n",
            " IPADE\n",
            " LOREAL.docx\n",
            " LOREAL.gdoc\n",
            "'LOREAL spanish.gdoc'\n",
            "'Microsoft Word - 116-S06 Asea Brown Boveri (Abreviado)[1].pdf'\n",
            " Migrate\n",
            "'Q1 Key Win - CC español .gslides'\n",
            " qr_carta_conf_esp13705128.pdf\n",
            "'RESPUESTA KMOD.docx'\n",
            "'Siebel Systems_ organización para el cliente.pdf'\n",
            "'Spanish Traduccion Service Cloud Voice.gdoc'\n",
            "'Traduccion Service Cloud Voice.docx'\n",
            "'Traduccion Sevice Cloud Adicional.docx'\n",
            "'Traduccion Sevice Cloud Adicional.gdoc'\n",
            "'Traduccion Sevice Cloud Adicional spanish.gdoc'\n",
            "'Traduccion Sevice Cloud.docx'\n",
            "'Traduccion Sevice Cloud.gdoc'\n",
            "'Traduccion Sevice Cloud spanish.gdoc'\n",
            "'Traduccion Slides.docx'\n",
            "'Traduccion Slides.gdoc'\n"
          ]
        }
      ]
    },
    {
      "cell_type": "markdown",
      "source": [
        "# New Section"
      ],
      "metadata": {
        "id": "J9csyCK9HNPD"
      }
    },
    {
      "cell_type": "markdown",
      "source": [
        "**Importar Pandas para desplegar archivo CSV**"
      ],
      "metadata": {
        "id": "1aqav_dPa5eL"
      }
    },
    {
      "cell_type": "code",
      "source": [
        "import pandas as pd\n",
        "path = \"/content/drive/MyDrive/Iris.csv\"\n",
        "df = pd.read_csv(path)\n",
        "\n",
        "# El dataset se guardó en un dataframe de pandas\n",
        "\n",
        "df.describe\n",
        "# print(df)"
      ],
      "metadata": {
        "colab": {
          "base_uri": "https://localhost:8080/"
        },
        "id": "lwGKWMQKH1iz",
        "outputId": "8c6b0731-eb7a-48d0-fec8-cc4ec122965b"
      },
      "execution_count": 1,
      "outputs": [
        {
          "output_type": "stream",
          "name": "stdout",
          "text": [
            "      Id  SepalLengthCm  ...  PetalWidthCm         Species\n",
            "0      1            5.1  ...           0.2     Iris-setosa\n",
            "1      2            4.9  ...           0.2     Iris-setosa\n",
            "2      3            4.7  ...           0.2     Iris-setosa\n",
            "3      4            4.6  ...           0.2     Iris-setosa\n",
            "4      5            5.0  ...           0.2     Iris-setosa\n",
            "..   ...            ...  ...           ...             ...\n",
            "145  146            6.7  ...           2.3  Iris-virginica\n",
            "146  147            6.3  ...           1.9  Iris-virginica\n",
            "147  148            6.5  ...           2.0  Iris-virginica\n",
            "148  149            6.2  ...           2.3  Iris-virginica\n",
            "149  150            5.9  ...           1.8  Iris-virginica\n",
            "\n",
            "[150 rows x 6 columns]\n"
          ]
        }
      ]
    },
    {
      "cell_type": "markdown",
      "source": [
        "# New Section"
      ],
      "metadata": {
        "id": "au0GqbikcNTt"
      }
    }
  ]
}